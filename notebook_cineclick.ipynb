{
 "cells": [
  {
   "cell_type": "code",
   "execution_count": 21,
   "metadata": {},
   "outputs": [],
   "source": [
    "url =r'data/full_data_base.csv'"
   ]
  },
  {
   "cell_type": "code",
   "execution_count": 8,
   "metadata": {},
   "outputs": [],
   "source": [
    "import pandas as pd"
   ]
  },
  {
   "cell_type": "code",
   "execution_count": 30,
   "metadata": {},
   "outputs": [],
   "source": [
    "df = pd.read_csv(url)"
   ]
  },
  {
   "cell_type": "code",
   "execution_count": 31,
   "metadata": {},
   "outputs": [
    {
     "data": {
      "text/html": [
       "<div>\n",
       "<style scoped>\n",
       "    .dataframe tbody tr th:only-of-type {\n",
       "        vertical-align: middle;\n",
       "    }\n",
       "\n",
       "    .dataframe tbody tr th {\n",
       "        vertical-align: top;\n",
       "    }\n",
       "\n",
       "    .dataframe thead th {\n",
       "        text-align: right;\n",
       "    }\n",
       "</style>\n",
       "<table border=\"1\" class=\"dataframe\">\n",
       "  <thead>\n",
       "    <tr style=\"text-align: right;\">\n",
       "      <th></th>\n",
       "      <th>tconst</th>\n",
       "      <th>title</th>\n",
       "      <th>titleType</th>\n",
       "      <th>Decade</th>\n",
       "      <th>original_language</th>\n",
       "      <th>production_companies_name</th>\n",
       "      <th>poster_path</th>\n",
       "      <th>budget</th>\n",
       "      <th>popularity</th>\n",
       "      <th>revenue</th>\n",
       "      <th>...</th>\n",
       "      <th>Musical</th>\n",
       "      <th>Mystery</th>\n",
       "      <th>News</th>\n",
       "      <th>Romance</th>\n",
       "      <th>Sci-Fi</th>\n",
       "      <th>Short</th>\n",
       "      <th>Sport</th>\n",
       "      <th>Thriller</th>\n",
       "      <th>War</th>\n",
       "      <th>Western</th>\n",
       "    </tr>\n",
       "  </thead>\n",
       "  <tbody>\n",
       "    <tr>\n",
       "      <th>0</th>\n",
       "      <td>tt0024121</td>\n",
       "      <td>L'entôleuse</td>\n",
       "      <td>0</td>\n",
       "      <td>1940.0</td>\n",
       "      <td>fi</td>\n",
       "      <td>Fenno-Filmi</td>\n",
       "      <td>/nNUYhUaSQdAWm35AHn2LfISEcG9.jpg</td>\n",
       "      <td>0</td>\n",
       "      <td>0.600</td>\n",
       "      <td>0</td>\n",
       "      <td>...</td>\n",
       "      <td>0</td>\n",
       "      <td>0</td>\n",
       "      <td>0</td>\n",
       "      <td>0</td>\n",
       "      <td>0</td>\n",
       "      <td>0</td>\n",
       "      <td>0</td>\n",
       "      <td>0</td>\n",
       "      <td>0</td>\n",
       "      <td>0</td>\n",
       "    </tr>\n",
       "    <tr>\n",
       "      <th>1</th>\n",
       "      <td>tt0029284</td>\n",
       "      <td>Mon épouse favorite</td>\n",
       "      <td>0</td>\n",
       "      <td>1940.0</td>\n",
       "      <td>en</td>\n",
       "      <td>RKO Radio Pictures</td>\n",
       "      <td>/eRyGZiEWGn9bADSI5CXWMStBhMD.jpg</td>\n",
       "      <td>921000</td>\n",
       "      <td>7.347</td>\n",
       "      <td>2057000</td>\n",
       "      <td>...</td>\n",
       "      <td>0</td>\n",
       "      <td>0</td>\n",
       "      <td>0</td>\n",
       "      <td>1</td>\n",
       "      <td>0</td>\n",
       "      <td>0</td>\n",
       "      <td>0</td>\n",
       "      <td>0</td>\n",
       "      <td>0</td>\n",
       "      <td>0</td>\n",
       "    </tr>\n",
       "    <tr>\n",
       "      <th>2</th>\n",
       "      <td>tt0030495</td>\n",
       "      <td>Narcisse</td>\n",
       "      <td>0</td>\n",
       "      <td>1940.0</td>\n",
       "      <td>fr</td>\n",
       "      <td>Gray Film</td>\n",
       "      <td>/3MsLpvvljY8euR6mkwIzd4dNLGq.jpg</td>\n",
       "      <td>0</td>\n",
       "      <td>0.998</td>\n",
       "      <td>0</td>\n",
       "      <td>...</td>\n",
       "      <td>0</td>\n",
       "      <td>0</td>\n",
       "      <td>0</td>\n",
       "      <td>0</td>\n",
       "      <td>0</td>\n",
       "      <td>0</td>\n",
       "      <td>0</td>\n",
       "      <td>0</td>\n",
       "      <td>0</td>\n",
       "      <td>0</td>\n",
       "    </tr>\n",
       "    <tr>\n",
       "      <th>3</th>\n",
       "      <td>tt0031084</td>\n",
       "      <td>Battement de coeur</td>\n",
       "      <td>0</td>\n",
       "      <td>1940.0</td>\n",
       "      <td>fr</td>\n",
       "      <td>Ciné-Alliance</td>\n",
       "      <td>/9k9tD5FJmODsPcVRRTBg2hzYkt7.jpg</td>\n",
       "      <td>0</td>\n",
       "      <td>0.988</td>\n",
       "      <td>0</td>\n",
       "      <td>...</td>\n",
       "      <td>0</td>\n",
       "      <td>0</td>\n",
       "      <td>0</td>\n",
       "      <td>0</td>\n",
       "      <td>0</td>\n",
       "      <td>0</td>\n",
       "      <td>0</td>\n",
       "      <td>0</td>\n",
       "      <td>0</td>\n",
       "      <td>0</td>\n",
       "    </tr>\n",
       "    <tr>\n",
       "      <th>4</th>\n",
       "      <td>tt0031228</td>\n",
       "      <td>La fille du diable</td>\n",
       "      <td>0</td>\n",
       "      <td>1940.0</td>\n",
       "      <td>fr</td>\n",
       "      <td>Société Nouvelle Pathé Cinéma</td>\n",
       "      <td>/r7z7TC1c9nbkDmiIVwVFhJMhogc.jpg</td>\n",
       "      <td>0</td>\n",
       "      <td>1.011</td>\n",
       "      <td>0</td>\n",
       "      <td>...</td>\n",
       "      <td>0</td>\n",
       "      <td>0</td>\n",
       "      <td>0</td>\n",
       "      <td>0</td>\n",
       "      <td>0</td>\n",
       "      <td>0</td>\n",
       "      <td>0</td>\n",
       "      <td>0</td>\n",
       "      <td>0</td>\n",
       "      <td>0</td>\n",
       "    </tr>\n",
       "  </tbody>\n",
       "</table>\n",
       "<p>5 rows × 37 columns</p>\n",
       "</div>"
      ],
      "text/plain": [
       "      tconst                title  titleType  Decade original_language  \\\n",
       "0  tt0024121          L'entôleuse          0  1940.0                fi   \n",
       "1  tt0029284  Mon épouse favorite          0  1940.0                en   \n",
       "2  tt0030495             Narcisse          0  1940.0                fr   \n",
       "3  tt0031084   Battement de coeur          0  1940.0                fr   \n",
       "4  tt0031228   La fille du diable          0  1940.0                fr   \n",
       "\n",
       "       production_companies_name                       poster_path  budget  \\\n",
       "0                    Fenno-Filmi  /nNUYhUaSQdAWm35AHn2LfISEcG9.jpg       0   \n",
       "1             RKO Radio Pictures  /eRyGZiEWGn9bADSI5CXWMStBhMD.jpg  921000   \n",
       "2                      Gray Film  /3MsLpvvljY8euR6mkwIzd4dNLGq.jpg       0   \n",
       "3                  Ciné-Alliance  /9k9tD5FJmODsPcVRRTBg2hzYkt7.jpg       0   \n",
       "4  Société Nouvelle Pathé Cinéma  /r7z7TC1c9nbkDmiIVwVFhJMhogc.jpg       0   \n",
       "\n",
       "   popularity  revenue  ...  Musical  Mystery  News  Romance  Sci-Fi  Short  \\\n",
       "0       0.600        0  ...        0        0     0        0       0      0   \n",
       "1       7.347  2057000  ...        0        0     0        1       0      0   \n",
       "2       0.998        0  ...        0        0     0        0       0      0   \n",
       "3       0.988        0  ...        0        0     0        0       0      0   \n",
       "4       1.011        0  ...        0        0     0        0       0      0   \n",
       "\n",
       "   Sport  Thriller  War  Western  \n",
       "0      0         0    0        0  \n",
       "1      0         0    0        0  \n",
       "2      0         0    0        0  \n",
       "3      0         0    0        0  \n",
       "4      0         0    0        0  \n",
       "\n",
       "[5 rows x 37 columns]"
      ]
     },
     "execution_count": 31,
     "metadata": {},
     "output_type": "execute_result"
    }
   ],
   "source": [
    "df.head()"
   ]
  },
  {
   "cell_type": "code",
   "execution_count": 32,
   "metadata": {},
   "outputs": [
    {
     "data": {
      "text/plain": [
       "(39236, 37)"
      ]
     },
     "execution_count": 32,
     "metadata": {},
     "output_type": "execute_result"
    }
   ],
   "source": [
    "df.shape"
   ]
  },
  {
   "cell_type": "code",
   "execution_count": 33,
   "metadata": {},
   "outputs": [
    {
     "data": {
      "text/plain": [
       "tconst                       0.000000\n",
       "title                        0.000000\n",
       "titleType                    0.000000\n",
       "Decade                       0.000000\n",
       "original_language            0.000000\n",
       "production_companies_name    0.124783\n",
       "poster_path                  0.019574\n",
       "budget                       0.000000\n",
       "popularity                   0.000000\n",
       "revenue                      0.000000\n",
       "rating                       0.000000\n",
       "vote_count                   0.000000\n",
       "RunTime                      0.000000\n",
       "Year                         0.000000\n",
       "Action                       0.000000\n",
       "Adventure                    0.000000\n",
       "Animation                    0.000000\n",
       "Biography                    0.000000\n",
       "Comedy                       0.000000\n",
       "Crime                        0.000000\n",
       "Drama                        0.000000\n",
       "Family                       0.000000\n",
       "Fantasy                      0.000000\n",
       "Film-Noir                    0.000000\n",
       "History                      0.000000\n",
       "Horror                       0.000000\n",
       "Music                        0.000000\n",
       "Musical                      0.000000\n",
       "Mystery                      0.000000\n",
       "News                         0.000000\n",
       "Romance                      0.000000\n",
       "Sci-Fi                       0.000000\n",
       "Short                        0.000000\n",
       "Sport                        0.000000\n",
       "Thriller                     0.000000\n",
       "War                          0.000000\n",
       "Western                      0.000000\n",
       "dtype: float64"
      ]
     },
     "execution_count": 33,
     "metadata": {},
     "output_type": "execute_result"
    }
   ],
   "source": [
    "df.isna().mean()"
   ]
  },
  {
   "cell_type": "markdown",
   "metadata": {},
   "source": []
  },
  {
   "cell_type": "code",
   "execution_count": 34,
   "metadata": {},
   "outputs": [],
   "source": [
    "df['Year'] = df['Year'].astype(int)"
   ]
  },
  {
   "cell_type": "code",
   "execution_count": 35,
   "metadata": {},
   "outputs": [],
   "source": [
    "df=df.query('Year >=1950')"
   ]
  },
  {
   "cell_type": "code",
   "execution_count": 36,
   "metadata": {},
   "outputs": [],
   "source": [
    "df = df.dropna()"
   ]
  },
  {
   "cell_type": "code",
   "execution_count": null,
   "metadata": {},
   "outputs": [],
   "source": []
  }
 ],
 "metadata": {
  "kernelspec": {
   "display_name": "Python 3",
   "language": "python",
   "name": "python3"
  },
  "language_info": {
   "codemirror_mode": {
    "name": "ipython",
    "version": 3
   },
   "file_extension": ".py",
   "mimetype": "text/x-python",
   "name": "python",
   "nbconvert_exporter": "python",
   "pygments_lexer": "ipython3",
   "version": "3.9.6"
  }
 },
 "nbformat": 4,
 "nbformat_minor": 2
}
